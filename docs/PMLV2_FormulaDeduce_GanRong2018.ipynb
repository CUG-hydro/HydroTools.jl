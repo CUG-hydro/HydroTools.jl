{
 "cells": [
  {
   "cell_type": "markdown",
   "id": "3d332e9d-914f-4f26-a91d-2ddbfc264b33",
   "metadata": {},
   "source": [
    "## 甘蓉2018, PMLV2公式勘误\n",
    "> A7存在错误，这里是公式A7的MATLAB推导过程\n",
    "> MATLAB代码"
   ]
  },
  {
   "cell_type": "code",
   "execution_count": 4,
   "id": "c550d831-ae89-4c82-ab58-164e4cf46807",
   "metadata": {},
   "outputs": [
    {
     "data": {
      "text/latex": [
       "$A_m =V_m$"
      ]
     },
     "execution_count": 4,
     "metadata": {},
     "output_type": "execute_result"
    }
   ],
   "source": [
    "clear, clc\n",
    "\n",
    "syms A_m V_m alpha eta kQ D0;\n",
    "syms VPD LAI PAR_mol C_a fT2 l l0 k Tair f_VPD;\n",
    "% C_a   = 380;  % ppm\n",
    "% k     = 0.9;  % extinction coefficients\n",
    "% eta   = 0.04; % the initla slope of CO2 response curve[umol m-2 s-1]/[umol mol-1]\n",
    "% alpha = 0.05; % initial photochemical efficiency, 0.02-0.08\n",
    "% l0    = 200;  % photosynthesis active Radiation (PAR), W m-2\n",
    "% Tair  = 20;   % for Vm\n",
    "% D0    = 0.7;  % leuning 2008, WRR\n",
    "A_m = V_m"
   ]
  },
  {
   "cell_type": "code",
   "execution_count": 5,
   "id": "529c59a3-a5c9-45b3-a9f5-b10129fd9f75",
   "metadata": {},
   "outputs": [
    {
     "data": {
      "text/latex": [
       "$A_g =\\frac{C_a \\,V_m \\,\\alpha \\,\\eta \\,l_0 }{V_m \\,\\alpha \\,l_0 +C_a \\,\\alpha \\,\\eta \\,l_0 +C_a \\,V_m \\,\\eta \\,{\\mathrm{e}}^{\\textrm{LAI}\\,k} }$"
      ]
     },
     "execution_count": 5,
     "metadata": {},
     "output_type": "execute_result"
    }
   ],
   "source": [
    "% Rong 2018, Eq. A4\n",
    "A_g = (A_m*alpha*eta*l*C_a) / ( ...\n",
    "    A_m*alpha*l + A_m*eta*C_a + alpha*l*eta*C_a);\n",
    "\n",
    "A_g = simplifyFraction( subs(A_g, l, l0*exp(-k*LAI)) )"
   ]
  },
  {
   "cell_type": "code",
   "execution_count": 7,
   "id": "947b9df2-6bf8-44ec-9263-677edcdd5ee3",
   "metadata": {},
   "outputs": [
    {
     "data": {
      "text/latex": [
       "$A_cg =\\frac{C_a \\,V_m \\,\\eta \\,{\\left(\\log \\left(C_a \\,V_m \\,\\eta +V_m \\,\\alpha \\,l_0 +C_a \\,\\alpha \\,\\eta \\,l_0 \\right)-\\log \\left(V_m \\,\\alpha \\,l_0 +C_a \\,\\alpha \\,\\eta \\,l_0 +C_a \\,V_m \\,\\eta \\,{\\mathrm{e}}^{\\textrm{LAI}\\,k} \\right)+\\textrm{LAI}\\,k\\right)}}{k\\,{\\left(V_m +C_a \\,\\eta \\right)}}$"
      ]
     },
     "execution_count": 7,
     "metadata": {},
     "output_type": "execute_result"
    }
   ],
   "source": [
    "% 这里是求积分, [0, LAI]区间的积分\n",
    "A_LAI = int(A_g, LAI) ;\n",
    "A_0 = subs(A_LAI, LAI, 0);\n",
    "A_cg = simplify(simplifyFraction(A_LAI - A_0))"
   ]
  },
  {
   "cell_type": "code",
   "execution_count": 11,
   "id": "261c1ac2-888b-48b0-8ffc-f8a53985dcc2",
   "metadata": {},
   "outputs": [],
   "source": [
    "% 公共项\n",
    "% p_com = A_m * alpha * eta * C_a / k/(A_m * alpha + alpha * eta * C_a)"
   ]
  },
  {
   "cell_type": "markdown",
   "id": "cd8dd75e-00ee-47c3-b0c2-79bf657f29d6",
   "metadata": {},
   "source": [
    "![Figure1](image/PMLV2_Eq.A7_GanRong2018.png)"
   ]
  }
 ],
 "metadata": {
  "kernelspec": {
   "display_name": "MATLAB Kernel",
   "language": "matlab",
   "name": "jupyter_matlab_kernel"
  },
  "language_info": {
   "file_extension": ".m",
   "mimetype": "text/x-matlab",
   "name": "matlab"
  }
 },
 "nbformat": 4,
 "nbformat_minor": 5
}
